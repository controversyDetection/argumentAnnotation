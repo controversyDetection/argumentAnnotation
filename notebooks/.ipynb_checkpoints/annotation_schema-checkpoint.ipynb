{
 "cells": [
  {
   "cell_type": "code",
   "execution_count": 16,
   "metadata": {},
   "outputs": [],
   "source": [
    "import sys, os\n",
    "sys.path.append('../tools')\n",
    "\n"
   ]
  },
  {
   "cell_type": "code",
   "execution_count": 17,
   "metadata": {},
   "outputs": [],
   "source": [
    "# libraries\n",
    "import os\n",
    "import pandas as pd\n",
    "from IPython.display import display, Image, HTML"
   ]
  },
  {
   "cell_type": "code",
   "execution_count": 23,
   "metadata": {},
   "outputs": [
    {
     "name": "stdout",
     "output_type": "stream",
     "text": [
      "__init__.py \u001b[34m__pycache__\u001b[m\u001b[m annotate.py\r\n"
     ]
    }
   ],
   "source": [
    "!ls ../tools"
   ]
  },
  {
   "cell_type": "code",
   "execution_count": 19,
   "metadata": {},
   "outputs": [],
   "source": [
    "\n",
    "# input data\n",
    "data_folder = '../data/sentence_annotation/html_snippets_v1'\n"
   ]
  },
  {
   "cell_type": "code",
   "execution_count": 20,
   "metadata": {},
   "outputs": [],
   "source": [
    "# Defined labels\n",
    "labels = ['Because...', 'But...']\n"
   ]
  },
  {
   "cell_type": "code",
   "execution_count": null,
   "metadata": {},
   "outputs": [],
   "source": [
    "\n",
    "\n",
    "data = [file_name for file_name in os.listdir(data_folder) if file_name.endswith('.html') and 'SENT' in file_name]\n",
    "\n",
    "data.sort()\n",
    "\n",
    "\n",
    "annotations = annotate_v1( data,\n",
    "                      options=labels,\n",
    "                      display_fn=lambda filename: display(HTML(data_folder+'/'+filename)),\n",
    "                      buttons_in_a_row=4,\n",
    "                      reset_buttons_after_click=True,\n",
    "                      include_skip=True)"
   ]
  },
  {
   "cell_type": "code",
   "execution_count": 31,
   "metadata": {},
   "outputs": [
    {
     "ename": "FileNotFoundError",
     "evalue": "[Errno 2] No such file or directory: '../../output/annotations.json'",
     "output_type": "error",
     "traceback": [
      "\u001b[0;31m---------------------------------------------------------------------------\u001b[0m",
      "\u001b[0;31mFileNotFoundError\u001b[0m                         Traceback (most recent call last)",
      "\u001b[0;32m<ipython-input-31-e5ddd0f8ac80>\u001b[0m in \u001b[0;36m<module>\u001b[0;34m\u001b[0m\n\u001b[1;32m      1\u001b[0m \u001b[0mget_ipython\u001b[0m\u001b[0;34m(\u001b[0m\u001b[0;34m)\u001b[0m\u001b[0;34m.\u001b[0m\u001b[0msystem\u001b[0m\u001b[0;34m(\u001b[0m\u001b[0;34m'mkdir ../../output'\u001b[0m\u001b[0;34m)\u001b[0m\u001b[0;34m\u001b[0m\u001b[0;34m\u001b[0m\u001b[0m\n\u001b[0;32m----> 2\u001b[0;31m \u001b[0;32mwith\u001b[0m \u001b[0mopen\u001b[0m\u001b[0;34m(\u001b[0m\u001b[0;34m\"../../output/annotations.json\"\u001b[0m\u001b[0;34m)\u001b[0m \u001b[0;32mas\u001b[0m \u001b[0mf\u001b[0m\u001b[0;34m:\u001b[0m\u001b[0;34m\u001b[0m\u001b[0;34m\u001b[0m\u001b[0m\n\u001b[0m\u001b[1;32m      3\u001b[0m     \u001b[0mf\u001b[0m\u001b[0;34m.\u001b[0m\u001b[0mwrite\u001b[0m\u001b[0;34m(\u001b[0m\u001b[0mstr\u001b[0m\u001b[0;34m(\u001b[0m\u001b[0mannotations\u001b[0m\u001b[0;34m)\u001b[0m\u001b[0;34m)\u001b[0m\u001b[0;34m\u001b[0m\u001b[0;34m\u001b[0m\u001b[0m\n",
      "\u001b[0;31mFileNotFoundError\u001b[0m: [Errno 2] No such file or directory: '../../output/annotations.json'"
     ]
    }
   ],
   "source": [
    "!mkdir ../../output\n",
    "with open(\"../../output/annotations.json\") as f:\n",
    "    f.write(str(annotations))"
   ]
  },
  {
   "cell_type": "markdown",
   "metadata": {},
   "source": [
    "Comments:\n",
    "\n",
    "\n",
    "- Negative Premises => \"I can live with it...\": Positive Claim\n",
    "- multiple label? [1]\n",
    "- context label? [2]\n",
    "- Claim itself has no requirement further than exposition.\n",
    "- if contains: A because B \" -> Claim-Pro [0]\n",
    "- if contains: A but B \" -> Claim-Con [1]\n",
    "- if says: \"this has been good/bad for X\"\n",
    "- if positive/negative effects in same sentence 0 => get general feeling \"...the only side effect...\" => mine in further steps"
   ]
  },
  {
   "cell_type": "code",
   "execution_count": null,
   "metadata": {},
   "outputs": [],
   "source": []
  },
  {
   "cell_type": "code",
   "execution_count": 5,
   "metadata": {},
   "outputs": [],
   "source": [
    "# build back into reviews again\n",
    "\n",
    "annotations_into_docs = {}\n",
    "evaluated_sentences = {}\n",
    "\n",
    "for annotation in annotations.keys():\n",
    "  doc_id = annotation.split('__SENT')[0]\n",
    "  sentence = annotation.split('SENT_')[1].split('.html')[0]\n",
    "\n",
    "  if doc_id in annotations_into_docs:\n",
    "    annotations_into_docs[doc_id].append(';'.join(annotations[annotation]))\n",
    "    evaluated_sentences[doc_id].append(sentence)\n",
    "  else:\n",
    "    annotations_into_docs[doc_id] = [';'.join(annotations[annotation])]\n",
    "    evaluated_sentences[doc_id] = [sentence]\n"
   ]
  },
  {
   "cell_type": "code",
   "execution_count": 6,
   "metadata": {},
   "outputs": [
    {
     "data": {
      "text/plain": [
       "{}"
      ]
     },
     "execution_count": 6,
     "metadata": {},
     "output_type": "execute_result"
    }
   ],
   "source": [
    "annotations_into_docs"
   ]
  },
  {
   "cell_type": "code",
   "execution_count": null,
   "metadata": {},
   "outputs": [],
   "source": [
    "# merge both objects\n"
   ]
  },
  {
   "cell_type": "code",
   "execution_count": null,
   "metadata": {},
   "outputs": [],
   "source": []
  }
 ],
 "metadata": {
  "kernelspec": {
   "display_name": "Python 3",
   "language": "python",
   "name": "python3"
  },
  "language_info": {
   "codemirror_mode": {
    "name": "ipython",
    "version": 3
   },
   "file_extension": ".py",
   "mimetype": "text/x-python",
   "name": "python",
   "nbconvert_exporter": "python",
   "pygments_lexer": "ipython3",
   "version": "3.8.6"
  }
 },
 "nbformat": 4,
 "nbformat_minor": 2
}
