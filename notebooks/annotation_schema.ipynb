{
 "cells": [
  {
   "source": [
    "# Annotation Task"
   ],
   "cell_type": "markdown",
   "metadata": {}
  },
  {
   "source": [
    "#### Libraries\n",
    "-----"
   ],
   "cell_type": "markdown",
   "metadata": {}
  },
  {
   "cell_type": "code",
   "execution_count": 35,
   "metadata": {},
   "outputs": [],
   "source": [
    "import sys, os, json, time\n",
    "sys.path.append('../tools')\n"
   ]
  },
  {
   "cell_type": "code",
   "execution_count": 17,
   "metadata": {},
   "outputs": [],
   "source": [
    "# libraries\n",
    "import pandas as pd\n",
    "from IPython.display import display, Image, HTML"
   ]
  },
  {
   "cell_type": "code",
   "execution_count": 18,
   "metadata": {},
   "outputs": [],
   "source": [
    "from annotate import annotate_v1"
   ]
  },
  {
   "source": [
    "#### Load data\n",
    "-------"
   ],
   "cell_type": "markdown",
   "metadata": {}
  },
  {
   "cell_type": "code",
   "execution_count": 19,
   "metadata": {},
   "outputs": [],
   "source": [
    "data_folder = '../data/sentence_annotation/html_snippets_v1'\n",
    "metadata = pd.read_csv(data_folder+'/data_v1.csv')\n",
    "\n",
    "data = [file_name for file_name in os.listdir(data_folder) if file_name.endswith('.html') and 'SENT' in file_name\n",
    " and file_name.split('__')[0] in list(metadata.doc_id)]\n",
    "data.sort()"
   ]
  },
  {
   "source": [
    "#### Define Labels\n",
    "-----"
   ],
   "cell_type": "markdown",
   "metadata": {}
  },
  {
   "cell_type": "code",
   "execution_count": 20,
   "metadata": {},
   "outputs": [],
   "source": [
    "labels = ['and I agree because', 'although...']\n"
   ]
  },
  {
   "source": [
    "### Annotation Task! (TESTS)\n",
    "-----\n"
   ],
   "cell_type": "markdown",
   "metadata": {}
  },
  {
   "source": [
    "Select how many items to annotate"
   ],
   "cell_type": "markdown",
   "metadata": {}
  },
  {
   "cell_type": "code",
   "execution_count": 25,
   "metadata": {},
   "outputs": [],
   "source": [
    "# Number of items to annotate \n",
    "items = 100\n",
    "data = data[:items]"
   ]
  },
  {
   "source": [
    "**Annotation**: run the following cell to start annotation based on the data and labels defined above.\n",
    "Use the buttons **prev** to go to the previous object and **skip** when the label is not clear.\n"
   ],
   "cell_type": "markdown",
   "metadata": {}
  },
  {
   "cell_type": "code",
   "execution_count": 33,
   "metadata": {},
   "outputs": [
    {
     "output_type": "display_data",
     "data": {
      "text/plain": "HTML(value='0 of 100 Examples annotated, Current Position: 0 <br> --------------------------------------------…",
      "application/vnd.jupyter.widget-view+json": {
       "version_major": 2,
       "version_minor": 0,
       "model_id": "d0110385b1a14897975fded26855697b"
      }
     },
     "metadata": {}
    },
    {
     "output_type": "display_data",
     "data": {
      "text/plain": "HBox(children=(Button(description='and I agree because', style=ButtonStyle()), Button(description='although...…",
      "application/vnd.jupyter.widget-view+json": {
       "version_major": 2,
       "version_minor": 0,
       "model_id": "2fc770899ac448f293c5ba248baeb39c"
      }
     },
     "metadata": {}
    },
    {
     "output_type": "display_data",
     "data": {
      "text/plain": "Output()",
      "application/vnd.jupyter.widget-view+json": {
       "version_major": 2,
       "version_minor": 0,
       "model_id": "25aa15f2e5a546049f95678873b5f839"
      }
     },
     "metadata": {}
    }
   ],
   "source": [
    "# Run to start annotation\n",
    "annotations = annotate_v1( data,\n",
    "                        metadata=metadata,\n",
    "                      options=labels,\n",
    "                      display_fn=lambda filename: display(HTML(data_folder+'/'+filename)),\n",
    "                      buttons_in_a_row=4,\n",
    "                      reset_buttons_after_click=True,\n",
    "                      #shuffle=True,\n",
    "                      include_skip=True,\n",
    "                      include_back=True,\n",
    "                      )"
   ]
  },
  {
   "source": [
    "### Save Results !!!"
   ],
   "cell_type": "markdown",
   "metadata": {}
  },
  {
   "cell_type": "code",
   "execution_count": 37,
   "metadata": {},
   "outputs": [],
   "source": [
    "# Run to SAVE\n",
    "output_folder = '../../output'\n",
    "!rm -r $output_folder\n",
    "!mkdir $output_folder\n",
    "with open(f\"../../output/annotations_{time.time()}.json\", \"w\") as f:\n",
    "    f.write(json.dumps(annotations))"
   ]
  },
  {
   "cell_type": "code",
   "execution_count": null,
   "metadata": {},
   "outputs": [],
   "source": []
  }
 ],
 "metadata": {
  "kernelspec": {
   "display_name": "Python 3",
   "language": "python",
   "name": "python3"
  },
  "language_info": {
   "codemirror_mode": {
    "name": "ipython",
    "version": 3
   },
   "file_extension": ".py",
   "mimetype": "text/x-python",
   "name": "python",
   "nbconvert_exporter": "python",
   "pygments_lexer": "ipython3",
   "version": "3.7.1-final"
  }
 },
 "nbformat": 4,
 "nbformat_minor": 2
}